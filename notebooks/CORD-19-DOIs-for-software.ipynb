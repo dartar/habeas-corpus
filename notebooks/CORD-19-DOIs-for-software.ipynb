{
 "cells": [
  {
   "cell_type": "markdown",
   "id": "effective-parks",
   "metadata": {},
   "source": [
    "# CORD-19 Software Mentions with DOIs where software is mentioned\n",
    "\n",
    "A notebook to link the random sample dataset with DOIs for papers the single software packages are mentioned in.\n",
    "\n",
    "First up, import some packages that may be helpful."
   ]
  },
  {
   "cell_type": "code",
   "execution_count": null,
   "id": "deluxe-penguin",
   "metadata": {},
   "outputs": [],
   "source": [
    "import numpy as np\n",
    "import pandas as pd\n",
    "import csv\n",
    "import ast\n",
    "import collections\n",
    "import matplotlib.pyplot as plt"
   ]
  },
  {
   "cell_type": "markdown",
   "id": "straight-clearing",
   "metadata": {},
   "source": [
    "### Prepare the input and output files to be used as variables\n",
    "\n",
    "We want to enrich the random sample file with information from the CORD-19 file, and finally write a new version of the random sample file with added DOI information."
   ]
  },
  {
   "cell_type": "code",
   "execution_count": null,
   "id": "separated-heading",
   "metadata": {},
   "outputs": [],
   "source": [
    "RANDOM_SAMPLE_CSV = '../data/output/CORD19_software_popularity_sampled_QA.csv'\n",
    "CORD19_CSVFILE = '../data/cord-19/CORD19_software_mentions.csv'\n",
    "DOI_FILE = '../data/output/CORD19_software_popularity_sampled_QA_DOI.csv'"
   ]
  },
  {
   "cell_type": "markdown",
   "id": "taken-watch",
   "metadata": {},
   "source": [
    "### Read the titles of the sampled software packages as keys into a dict\n",
    "\n",
    "We want to iterate that list later to add DOIs for occurrences in the CORD-19 file."
   ]
  },
  {
   "cell_type": "code",
   "execution_count": null,
   "id": "occupational-victoria",
   "metadata": {},
   "outputs": [],
   "source": [
    "sample_doi_map = {}\n",
    "\n",
    "with open(RANDOM_SAMPLE_CSV, newline='') as samplecsv:\n",
    "    samplereader = csv.DictReader(samplecsv)\n",
    "    for row in samplereader:\n",
    "        title = row['Title']\n",
    "        # Prepopulate the map with the title as key and an empty set as value\n",
    "        sample_doi_map[title] = set()\n",
    "        \n",
    "# Sanity check\n",
    "len_map = len(sample_doi_map)\n",
    "if not len_map == 100:\n",
    "    raise AssertionError('Expected 100 titles, mapped ' + str(len_map))"
   ]
  },
  {
   "cell_type": "markdown",
   "id": "limiting-cursor",
   "metadata": {},
   "source": [
    "### Take a quick look at the set of titles"
   ]
  },
  {
   "cell_type": "code",
   "execution_count": null,
   "id": "forty-joshua",
   "metadata": {
    "scrolled": true
   },
   "outputs": [],
   "source": [
    "sample_doi_map"
   ]
  },
  {
   "cell_type": "markdown",
   "id": "wooden-district",
   "metadata": {},
   "source": [
    "### Build a dict from row indices to DOIs\n",
    "\n",
    "We now want to iterate through the mentions in the CORD-19 file, and for each mention where it equals a title in our sampled list, read the DOI and add it to a list in a dict, where the title is the key, and the value is a list of DOIs which reference that title."
   ]
  },
  {
   "cell_type": "code",
   "execution_count": null,
   "id": "consistent-chrome",
   "metadata": {},
   "outputs": [],
   "source": [
    "with open(CORD19_CSVFILE, newline='') as csvfile:\n",
    "    reader = csv.DictReader(csvfile)\n",
    "    for cordrow in reader:\n",
    "        mentions = set(ast.literal_eval(cordrow['software']))\n",
    "        for mention in mentions:\n",
    "            for sample in sample_doi_map.keys():\n",
    "                if mention == sample:\n",
    "                    doi = cordrow['doi']\n",
    "                    sample_doi_map[sample].add(doi)"
   ]
  },
  {
   "cell_type": "markdown",
   "id": "tight-spectrum",
   "metadata": {},
   "source": [
    "### Have a peek at the map"
   ]
  },
  {
   "cell_type": "code",
   "execution_count": null,
   "id": "appropriate-diving",
   "metadata": {},
   "outputs": [],
   "source": [
    "sample_doi_map"
   ]
  },
  {
   "cell_type": "markdown",
   "id": "supreme-there",
   "metadata": {},
   "source": [
    "### Update the sample dataset\n",
    "\n",
    "In the random sample file, create a new column \"mentioning DOIs\", and populate it with the set of DOIs for each sample."
   ]
  },
  {
   "cell_type": "code",
   "execution_count": null,
   "id": "effective-helen",
   "metadata": {},
   "outputs": [],
   "source": [
    "with open(RANDOM_SAMPLE_CSV, newline='') as samplecsv:\n",
    "    with open(DOI_FILE, 'w') as sample_doi_csv:\n",
    "        writer = csv.writer(sample_doi_csv)\n",
    "\n",
    "        for row in csv.reader(samplecsv):\n",
    "            if row[1] == 'Title':\n",
    "                writer.writerow(row+['Mentioning DOIs'])\n",
    "            else:\n",
    "                # build a comma-separated list of non-empty DOIs\n",
    "                doi_set = sample_doi_map[row[1]]\n",
    "                writer.writerow(row+[';'.join(str(doi) for doi in doi_set)])"
   ]
  }
 ],
 "metadata": {
  "kernelspec": {
   "display_name": "Python 3",
   "language": "python",
   "name": "python3"
  },
  "language_info": {
   "codemirror_mode": {
    "name": "ipython",
    "version": 3
   },
   "file_extension": ".py",
   "mimetype": "text/x-python",
   "name": "python",
   "nbconvert_exporter": "python",
   "pygments_lexer": "ipython3",
   "version": "3.8.5"
  }
 },
 "nbformat": 4,
 "nbformat_minor": 5
}
