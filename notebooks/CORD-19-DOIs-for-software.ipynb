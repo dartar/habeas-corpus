{
 "cells": [
  {
   "cell_type": "markdown",
   "id": "effective-parks",
   "metadata": {},
   "source": [
    "# CORD-19 Software Mentions with DOIs where software is mentioned\n",
    "\n",
    "A notebook to link the random sample dataset with DOIs for papers the single software packages are mentioned in."
   ]
  },
  {
   "cell_type": "code",
   "execution_count": null,
   "id": "deluxe-penguin",
   "metadata": {},
   "outputs": [],
   "source": [
    "import numpy as np\n",
    "import pandas as pd\n",
    "import csv\n",
    "import ast\n",
    "import collections\n",
    "import matplotlib.pyplot as plt"
   ]
  },
  {
   "cell_type": "markdown",
   "id": "straight-clearing",
   "metadata": {},
   "source": [
    "### Prepare the input and output files to be used as variables"
   ]
  },
  {
   "cell_type": "code",
   "execution_count": null,
   "id": "separated-heading",
   "metadata": {},
   "outputs": [],
   "source": [
    "RANDOM_SAMPLE_CSV = '../data/output/CORD19_software_popularity_sampled_QA.csv'\n",
    "CORD19_CSVFILE = '../data/cord-19/CORD19_software_mentions.csv'\n",
    "DOI_FILE = '../data/output/CORD19_software_popularity_sampled_QA_DOI.csv'"
   ]
  },
  {
   "cell_type": "markdown",
   "id": "taken-watch",
   "metadata": {},
   "source": [
    "### Read the titles of the sampled software packages into a set"
   ]
  },
  {
   "cell_type": "code",
   "execution_count": null,
   "id": "occupational-victoria",
   "metadata": {},
   "outputs": [],
   "source": [
    "samples = []\n",
    "\n",
    "with open(RANDOM_SAMPLE_CSV, newline='') as samplecsv:\n",
    "    samplereader = csv.DictReader(samplecsv)\n",
    "    for row in samplereader:\n",
    "        title = row['Title']\n",
    "        samples.append(title)"
   ]
  },
  {
   "cell_type": "markdown",
   "id": "limiting-cursor",
   "metadata": {},
   "source": [
    "### Take a quick look at the set of titles"
   ]
  },
  {
   "cell_type": "code",
   "execution_count": null,
   "id": "forty-joshua",
   "metadata": {
    "scrolled": true
   },
   "outputs": [],
   "source": [
    "samples"
   ]
  },
  {
   "cell_type": "markdown",
   "id": "wooden-district",
   "metadata": {},
   "source": [
    "### Build a dict from row indices to DOIs"
   ]
  },
  {
   "cell_type": "code",
   "execution_count": null,
   "id": "consistent-chrome",
   "metadata": {},
   "outputs": [],
   "source": [
    "dois = {}\n",
    "\n",
    "# Initialize dict with the title at index 0\n",
    "dois[str(0)] = 'DOI'\n",
    "\n",
    "with open(CORD19_CSVFILE, newline='') as csvfile:\n",
    "    reader = csv.DictReader(csvfile)\n",
    "    for cordrow in reader:\n",
    "        mentions = set(ast.literal_eval(cordrow['software']))\n",
    "        for mention in mentions:\n",
    "            for index, sample in enumerate(samples):\n",
    "                if mention == sample:\n",
    "                    doi = cordrow['doi']\n",
    "                    dois[str(index + 1)] = doi"
   ]
  },
  {
   "cell_type": "markdown",
   "id": "tight-spectrum",
   "metadata": {},
   "source": [
    "### Have a peek at the DOIs"
   ]
  },
  {
   "cell_type": "code",
   "execution_count": null,
   "id": "appropriate-diving",
   "metadata": {},
   "outputs": [],
   "source": [
    "dois"
   ]
  },
  {
   "cell_type": "markdown",
   "id": "supreme-there",
   "metadata": {},
   "source": [
    "### Add the DOI column to the annotated sample dataset"
   ]
  },
  {
   "cell_type": "code",
   "execution_count": null,
   "id": "effective-helen",
   "metadata": {},
   "outputs": [],
   "source": [
    "with open(RANDOM_SAMPLE_CSV, 'r') as fi:\n",
    "    lines = [[i.strip() for i in line.strip().split(',')] \\\n",
    "             for line in fi.readlines()]\n",
    "doi_list = []\n",
    "for item in dois.items():\n",
    "    doi_list.insert(int(item[0]), item[1])\n",
    "\n",
    "new_lines = []\n",
    "for i, line in enumerate(lines):\n",
    "    if i >= 100: \n",
    "        break\n",
    "    new_lines.append(line + [doi_list[i]])\n",
    "\n",
    "with open(DOI_FILE, 'w') as fo:\n",
    "    for line in new_lines:\n",
    "        fo.write(','.join(line) + '\\n')\n",
    "\n"
   ]
  }
 ],
 "metadata": {
  "kernelspec": {
   "display_name": "Python 3",
   "language": "python",
   "name": "python3"
  },
  "language_info": {
   "codemirror_mode": {
    "name": "ipython",
    "version": 3
   },
   "file_extension": ".py",
   "mimetype": "text/x-python",
   "name": "python",
   "nbconvert_exporter": "python",
   "pygments_lexer": "ipython3",
   "version": "3.8.5"
  }
 },
 "nbformat": 4,
 "nbformat_minor": 5
}
